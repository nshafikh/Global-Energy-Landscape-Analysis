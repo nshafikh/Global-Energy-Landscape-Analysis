{
 "cells": [
  {
   "cell_type": "markdown",
   "id": "fc672414",
   "metadata": {},
   "source": [
    "# Data Analysis Project: Global Energy Usage\n",
    "## Project Outline\n",
    "##### Nima Shafikhani"
   ]
  },
  {
   "cell_type": "markdown",
   "id": "de43363b",
   "metadata": {},
   "source": [
    "# Motivation"
   ]
  },
  {
   "cell_type": "markdown",
   "id": "43668365",
   "metadata": {},
   "source": [
    "Pollution, resource sustainability, and the climate change crisis have been major topics for years, but they have never been as significant as they are now. There is a huge push around the world towards clean and renewable energy sources to combat climate change. However, there is still uncertainty regarding the economic feasibility of switching to clean energy sources, especially for developing countries. I am optimistic that this dataset will lead us toward a better understanding of the economic feasibility of using clean energy for different countries at any point in their economic timeline.\n"
   ]
  },
  {
   "cell_type": "markdown",
   "id": "6db73de9",
   "metadata": {},
   "source": [
    "# Related Work"
   ]
  },
  {
   "cell_type": "markdown",
   "id": "44e9c464",
   "metadata": {},
   "source": [
    "I found the dataset on Kaggle (sourced from the World Bank, the International Energy Agency, and ourworldindata.org). I already had some understanding of this topic. While doing additional research, I came across this United Nations Climate Action website which ultimately led to me choosing this topic (Renewable energy – powering a safer future | United Nations).\n"
   ]
  },
  {
   "cell_type": "markdown",
   "id": "96cf7e50",
   "metadata": {},
   "source": [
    "# Data"
   ]
  },
  {
   "cell_type": "markdown",
   "id": "ecf1e94a",
   "metadata": {},
   "source": [
    "- Primary Dataset: Sustainable Energy 2000-2020\n",
    "- URL: https://www.kaggle.com/datasets/anshtanwar/global-data-on-sustainable-energy/data\n",
    "- This dataset contains many useful factors, including sustainable energy indicators, across 176 countries from 2000 to 2020\n",
    "- 1 table\n",
    "- 21 columns\n",
    "- 3520 rows (176 countries * 20 years)\n",
    "- There are some columns (e.g., financial flows to developing countries) that have missing values. We will determine how to handle missing values upon further examination of the dataset.\n",
    "\n",
    "- Additionally using World Bank dataset to identify population and age brackets for countries\n",
    "- Income URL: https://datahelpdesk.worldbank.org/knowledgebase/articles/906519-world-bank-country-and-lending-groups\n",
    "- Population URL: https://data.worldbank.org/indicator/SP.POP.TOTL\n"
   ]
  },
  {
   "cell_type": "markdown",
   "id": "fe7a06a3",
   "metadata": {},
   "source": [
    "# Questions + Possible Findings and Implications"
   ]
  },
  {
   "cell_type": "markdown",
   "id": "585e2b90",
   "metadata": {},
   "source": [
    "**Question 1**: How do the sources of electricity and their contributing percentages to overall electricity demand differ among countries when categorized by GDP per capita, and what is the general state of electricity access within these GDP buckets? <br>\n",
    "\n",
    "**Possible Finding and Implication**: Countries with higher GDP per capita would have a higher share of renewable electricity resources, as well as access to electricity and clean fuels for cooking. This would support our assumption that countries with smaller economies are hesitant in switching to renewable energy due to costs.<br>\n",
    "\n",
    "**Workflow**:\n",
    "- Data Preparation: Clean, preprocess, and explore the dataset\n",
    "- Group by GDP per Capita: Split countries into different categories (e.g., low-income, middle-income, high-income)\n",
    "- Aggregate Electricity Data: Calculate the percentages of different sources of electricity within each GDP per capita category\n",
    "- Analyze Electricity Access: Examine the general state of electricity access within each category (electricity and clean fuels for cooking)\n",
    "- Visualization: Create visualizations (e.g., bar charts) to illustrate the differences in electricity sources and access within each GDP per capita category\n",
    "- Interpretation: Draw conclusions regarding the relationship between GDP per capita, electricity sources, and electricity access\n",
    "\n"
   ]
  },
  {
   "cell_type": "markdown",
   "id": "63f0943e",
   "metadata": {},
   "source": [
    "**Question 2**: When observing regional trends, how have preferences or dependencies on types of electricity supply evolved over time?\n",
    " <br>\n",
    "\n",
    "**Possible Finding and Implication**: The Middle East and neighboring Asian countries/allies will likely use more fossil fuels due to how abundant it is in those regions. European countries have likely seen a large increase in renewable energy usage over the years due to the increase of environmental initiatives and recently implemented climate laws. Outside of these regions, we believe that the source of energy in other countries will depend on the economic status of these regions/nations (wealthier countries will use cleaner, more expensive energy sources whereas developing countries will be cutting on costs and using more affordable energy sources).\n",
    "\n",
    "\n",
    "**Workflow**:\n",
    "- Data Preparation: Clean, preprocess, and explore the dataset\n",
    "- Group the countries by regional data (neighboring countries/subcontinents)\n",
    "- Aggregate the information about share of electricity sources\n",
    "- Analyze the aggregation by time and how it has changed over several years.\n",
    "- Visualization: Create visualizations on how the preferences have changed over time using plots like bar charts and line plots.\n",
    "- Interpretation: Determine the trends over time and how the dependencies have changed over time\n",
    "\n",
    "\n"
   ]
  },
  {
   "cell_type": "markdown",
   "id": "9c0cd2d4",
   "metadata": {},
   "source": [
    "**Question 3**: In developing nations, is there a significant relationship between financial inflows (with the intent of increasing renewable energy usage) and the adoption of renewable and clean energy sources, and how does this impact their energy landscape and developmental trajectory?\n",
    " <br>\n",
    "\n",
    "**Possible Finding and Implication**: We would like to believe that countries with high financial inflow would be spending more on setting up cleaner sources of energy. Furthermore, we expect that the percentage of their energy being clean and renewable will have increased over time. However, the increase in percentage of renewable energy per dollar may vary country to country, which would implicate government missteps. That being said, we currently assume that countries are using this money properly.\n",
    " <br>\n",
    "\n",
    "**Workflow**:\n",
    "- Data Preparation: Clean, preprocess, and explore the dataset\n",
    "- Analyze the column that tells about the amount of financial inflow in the country\n",
    "- Correlation analysis: Determine the correlation between the financial info into a developing country and the percentage share of renewable energy sources.\n",
    "- Visualization: Create visualizations on how over time the financial inflow has changed and how it impacted the share of renewable energy.\n",
    "- Interpretation: Draw conclusions between the countries financial inflow for renewable energy and their share of renewable energy sources.\n",
    "\n"
   ]
  },
  {
   "cell_type": "markdown",
   "id": "e925eff0",
   "metadata": {},
   "source": [
    "**Question 4**: How do CO₂ emissions vary by income bracket? Which regions have contributed the most CO₂ emissions, and which have experienced the highest growth in emissions?\n",
    " <br>\n",
    " \n",
    "**Possible Finding and Implication**: When looking at countries with similar economic baselines, the country that experienced more economic growth would be the one using a higher percentage of non-renewable energy sources. Cutting down on energy costs will allow for cheaper manufacturing. The implication mentioned earlier (cutting energy costs allows for economic growth) would be upheld.\n",
    " <br>\n",
    " \n",
    "**Workflow**:\n",
    "- Data Preparation: Clean, preprocess, and explore the dataset\n",
    "- Group by Year, GDP per Capita: Categorize countries into groups with similar economic conditions at the same time\n",
    "- Analyze the relationship between countries' economic growth and their share of renewable energy sources. \n",
    "- Visualize the relationship using altair and try to identify the differences between the countries trajectories.\n",
    "- Draw the conclusion regarding the role of renewable energy in a country's economic race against others.\n",
    "\n",
    "\n"
   ]
  }
 ],
 "metadata": {
  "kernelspec": {
   "display_name": "Python 3 (ipykernel)",
   "language": "python",
   "name": "python3"
  },
  "language_info": {
   "codemirror_mode": {
    "name": "ipython",
    "version": 3
   },
   "file_extension": ".py",
   "mimetype": "text/x-python",
   "name": "python",
   "nbconvert_exporter": "python",
   "pygments_lexer": "ipython3",
   "version": "3.11.4"
  }
 },
 "nbformat": 4,
 "nbformat_minor": 5
}
